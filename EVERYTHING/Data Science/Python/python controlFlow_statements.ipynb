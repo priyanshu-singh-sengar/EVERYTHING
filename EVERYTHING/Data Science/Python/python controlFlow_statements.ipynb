{
 "cells": [
  {
   "cell_type": "markdown",
   "metadata": {},
   "source": [
    "Control Flow Statements\n",
    "if\n",
    "elif\n",
    "else"
   ]
  },
  {
   "cell_type": "code",
   "execution_count": 1,
   "metadata": {},
   "outputs": [
    {
     "name": "stdout",
     "output_type": "stream",
     "text": [
      "you will be a part of second batch\n"
     ]
    }
   ],
   "source": [
    "marks = 65\n",
    "if marks >= 80:\n",
    "    print(\"you will be part of top batch\")\n",
    "\n",
    "elif marks >= 60 and marks < 80:\n",
    "    print(\"you will be a part of second batch\")\n",
    "\n",
    "elif marks<60 and marks>=40:\n",
    "    print(\"you will be a part of third batch\")\n",
    "\n",
    "else:\n",
    "    print(\"you will be part of last batch\")"
   ]
  },
  {
   "cell_type": "markdown",
   "metadata": {},
   "source": [
    "To take user input --> there is a function called input(\"type a message\")\n",
    "now the input function reads the input in string by default so we need to typecast it to integer or other datatypes before using it somewhere if necessary."
   ]
  },
  {
   "cell_type": "code",
   "execution_count": 4,
   "metadata": {},
   "outputs": [
    {
     "name": "stdout",
     "output_type": "stream",
     "text": [
      "you will be part of top batch\n"
     ]
    }
   ],
   "source": [
    "marks = int(input(\"enter a number:\")) #IT TAKES MARKS AS INPUT EVERY TIME WE EXECUTE THE PROGRAM.\n",
    "\n",
    "if marks >= 80:\n",
    "    print(\"you will be part of top batch\")\n",
    "\n",
    "elif marks >= 60 and marks < 80:\n",
    "    print(\"you will be a part of second batch\")\n",
    "\n",
    "elif marks<60 and marks>=40:\n",
    "    print(\"you will be a part of third batch\")\n",
    "\n",
    "else:\n",
    "    print(\"you will be part of last batch\")"
   ]
  },
  {
   "cell_type": "code",
   "execution_count": 5,
   "metadata": {},
   "outputs": [
    {
     "data": {
      "text/plain": [
       "int"
      ]
     },
     "execution_count": 5,
     "metadata": {},
     "output_type": "execute_result"
    }
   ],
   "source": [
    "type(marks)"
   ]
  },
  {
   "cell_type": "code",
   "execution_count": 7,
   "metadata": {},
   "outputs": [
    {
     "data": {
      "text/plain": [
       "90"
      ]
     },
     "execution_count": 7,
     "metadata": {},
     "output_type": "execute_result"
    }
   ],
   "source": [
    "marks #this is what I inputted"
   ]
  },
  {
   "cell_type": "code",
   "execution_count": 11,
   "metadata": {},
   "outputs": [
    {
     "name": "stdout",
     "output_type": "stream",
     "text": [
      "I will purchase the product\n"
     ]
    }
   ],
   "source": [
    "price = int(input(\"enter price\"))\n",
    "if price > 1000:\n",
    "   print(\"i will not purchase\")\n",
    "   if price>5000:\n",
    "      print(\"this is too much\")\n",
    "else:\n",
    "    print(\"I will purchase the product\")"
   ]
  },
  {
   "cell_type": "code",
   "execution_count": 12,
   "metadata": {},
   "outputs": [
    {
     "data": {
      "text/plain": [
       "556"
      ]
     },
     "execution_count": 12,
     "metadata": {},
     "output_type": "execute_result"
    }
   ],
   "source": [
    "price"
   ]
  },
  {
   "cell_type": "markdown",
   "metadata": {},
   "source": [
    "LOOP:\n",
    "for\n",
    "while"
   ]
  },
  {
   "cell_type": "code",
   "execution_count": 31,
   "metadata": {},
   "outputs": [],
   "source": [
    "#given a list, traverse the list and perform various operations on the list\n",
    "\n",
    "l = [1,2,3,3,4,5,6,7,8]"
   ]
  },
  {
   "cell_type": "markdown",
   "metadata": {},
   "source": [
    "Q - add 1 to each element of the list l1?"
   ]
  },
  {
   "cell_type": "code",
   "execution_count": 22,
   "metadata": {},
   "outputs": [
    {
     "name": "stdout",
     "output_type": "stream",
     "text": [
      "[2, 3, 4, 4, 5, 6, 7, 8, 9]\n"
     ]
    }
   ],
   "source": [
    "l1 = []\n",
    "for i in l:  #same as do while loop in java\n",
    "    l1.append(i+1) #appends the elements of list l in list l1 by adding 1 to each element.\n",
    "print(l1)"
   ]
  },
  {
   "cell_type": "code",
   "execution_count": 23,
   "metadata": {},
   "outputs": [],
   "source": [
    "l2 = [\"sudh\", \"kumar\", \"udemy\", \"course\"]"
   ]
  },
  {
   "cell_type": "code",
   "execution_count": 28,
   "metadata": {},
   "outputs": [
    {
     "name": "stdout",
     "output_type": "stream",
     "text": [
      "['SUDH', 'KUMAR', 'UDEMY', 'COURSE']\n"
     ]
    }
   ],
   "source": [
    "l3 = []\n",
    "for i in l2:  #same as do while loop in java\n",
    "    l3.append(i.upper()) #appends the elements of list l in list l1 =making all of them in uppercase.\n",
    "print(l3)"
   ]
  },
  {
   "cell_type": "code",
   "execution_count": 32,
   "metadata": {},
   "outputs": [],
   "source": [
    "ls = [1,2,3,4,\"sudh\", \"kumar\", 324, 34.456, \"abc\"]"
   ]
  },
  {
   "cell_type": "markdown",
   "metadata": {},
   "source": [
    "Q - to seperate string data from integer and float data in above list and print them?"
   ]
  },
  {
   "cell_type": "code",
   "execution_count": 37,
   "metadata": {},
   "outputs": [
    {
     "name": "stdout",
     "output_type": "stream",
     "text": [
      "['sudh', 'kumar', 'abc']\n",
      "[1, 2, 3, 4, 324, 34.456]\n"
     ]
    }
   ],
   "source": [
    "ls1 = []\n",
    "ls2 =[]\n",
    "for i in ls:  \n",
    "    if str(i) == i:  #we can also use (type(i) == str)\n",
    "        ls1.append(i)\n",
    "    else:\n",
    "        ls2.append(i)\n",
    "print(ls1)\n",
    "print(ls2)"
   ]
  },
  {
   "cell_type": "markdown",
   "metadata": {},
   "source": [
    "Q - to seperate integer, float, string in seperate list?"
   ]
  },
  {
   "cell_type": "code",
   "execution_count": 39,
   "metadata": {},
   "outputs": [
    {
     "name": "stdout",
     "output_type": "stream",
     "text": [
      "['sudh', 'kumar', 'abc']\n",
      "[1, 2, 3, 4, 324]\n",
      "[34.456]\n"
     ]
    }
   ],
   "source": [
    "ls1 = []\n",
    "ls2 = []\n",
    "ls3 = []\n",
    "for i in ls:  \n",
    "    if type(i) == str:\n",
    "        ls1.append(i)\n",
    "    elif type(i) == int:\n",
    "        ls2.append(i)\n",
    "    else:\n",
    "        ls3.append(i)\n",
    "print(ls1)\n",
    "print(ls2)\n",
    "print(ls3)"
   ]
  },
  {
   "cell_type": "code",
   "execution_count": 2,
   "metadata": {},
   "outputs": [],
   "source": [
    "lst = [1,2,3,4,5]"
   ]
  },
  {
   "cell_type": "code",
   "execution_count": 5,
   "metadata": {},
   "outputs": [
    {
     "name": "stdout",
     "output_type": "stream",
     "text": [
      "1 <class 'int'>\n",
      "2 <class 'int'>\n",
      "3 <class 'int'>\n",
      "4 <class 'int'>\n",
      "5 <class 'int'>\n"
     ]
    }
   ],
   "source": [
    "for i in lst:\n",
    "    print(i, type(i))"
   ]
  },
  {
   "cell_type": "code",
   "execution_count": 6,
   "metadata": {},
   "outputs": [],
   "source": [
    "lst1 = [\"sudh\", \"kumar\", \"issac\", \"newton\"]"
   ]
  },
  {
   "cell_type": "code",
   "execution_count": 7,
   "metadata": {},
   "outputs": [
    {
     "name": "stdout",
     "output_type": "stream",
     "text": [
      "sudh\n",
      "kumar\n",
      "issac\n",
      "newton\n"
     ]
    }
   ],
   "source": [
    "for i in lst1:\n",
    "    print(i)"
   ]
  },
  {
   "cell_type": "code",
   "execution_count": null,
   "metadata": {},
   "outputs": [],
   "source": []
  }
 ],
 "metadata": {
  "kernelspec": {
   "display_name": "Python 3",
   "language": "python",
   "name": "python3"
  },
  "language_info": {
   "codemirror_mode": {
    "name": "ipython",
    "version": 3
   },
   "file_extension": ".py",
   "mimetype": "text/x-python",
   "name": "python",
   "nbconvert_exporter": "python",
   "pygments_lexer": "ipython3",
   "version": "3.10.12"
  }
 },
 "nbformat": 4,
 "nbformat_minor": 2
}
